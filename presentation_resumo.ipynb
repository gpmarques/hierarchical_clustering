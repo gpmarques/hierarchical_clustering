{
 "cells": [
  {
   "cell_type": "markdown",
   "metadata": {},
   "source": [
    "Datasets: Iris, Breast cancer, Wine\n",
    "5 Linkages\n",
    "Abordagens: Topdown, bottom up\n",
    "https://www.kaggle.com/vipulgandhi/hierarchical-clustering-explanation\n",
    "\n",
    "https://scikit-learn.org/stable/modules/clustering.html#hierarchical-clustering\n",
    "\n",
    "Anderson Oliveira\n",
    "Anderson Uchôa\n",
    "Hugo \n",
    "Bruno\n",
    "Guilherme\n",
    "Abner\n",
    "\n",
    "Introdução: Anderson Uchôa \n",
    "\n",
    "1) Tipos de abordagens(Topdown, bottom up)\n",
    "Bottom Up: Anderson Uchôa\n",
    "Topdown: Hugo\n",
    "\n",
    "Matriz de proximidade e similaridade de cluster: Bruno\n",
    "\n",
    "2) Diferentes tipos de linkage\n",
    "Single: Abner\n",
    "Complete: Abner\n",
    "Average: Abner\n",
    "\n",
    "Ward: Guilherme\n",
    "Outros: Guilherme \n",
    "\n",
    "Dendograma: Anderson Oliveira\n",
    "Exemplos: Anderson Oliveira\n",
    "\n",
    "3) Casos de uso com as combinação de linkage e abordagens, mostrando a qualidade de cada um\n",
    "\n",
    "Aplicar os clusters a dados já anotados, comparando com o dendograma"
   ]
  },
  {
   "cell_type": "code",
   "execution_count": null,
   "metadata": {},
   "outputs": [],
   "source": [
    " "
   ]
  }
 ],
 "metadata": {
  "kernelspec": {
   "display_name": "Python 3",
   "language": "python",
   "name": "python3"
  },
  "language_info": {
   "codemirror_mode": {
    "name": "ipython",
    "version": 3
   },
   "file_extension": ".py",
   "mimetype": "text/x-python",
   "name": "python",
   "nbconvert_exporter": "python",
   "pygments_lexer": "ipython3",
   "version": "3.6.8"
  }
 },
 "nbformat": 4,
 "nbformat_minor": 2
}

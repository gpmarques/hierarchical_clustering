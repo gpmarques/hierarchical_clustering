{
 "cells": [
  {
   "cell_type": "markdown",
   "metadata": {},
   "source": [
    "Datasets: Iris, Breast cancer, Wine\n",
    "5 Linkages\n",
    "Abordagens: Topdown, bottom up\n",
    "https://www.kaggle.com/vipulgandhi/hierarchical-clustering-explanation\n",
    "\n",
    "https://scikit-learn.org/stable/modules/clustering.html#hierarchical-clustering\n",
    "\n",
    "1) Tipos de abordagens(Topdown, bottom up)\n",
    "\n",
    "2) Diferentes tipos de linkage\n",
    "\n",
    "3) Casos de uso com as combinação de linkage e abordagens, mostrando a qualidade de cada um\n",
    "\n",
    "Aplicar os clusters a dados já anotados, comparando com o dendograma"
   ]
  }
 ],
 "metadata": {
  "kernelspec": {
   "display_name": "mlProjects",
   "language": "python",
   "name": "mlprojects"
  },
  "language_info": {
   "codemirror_mode": {
    "name": "ipython",
    "version": 3
   },
   "file_extension": ".py",
   "mimetype": "text/x-python",
   "name": "python",
   "nbconvert_exporter": "python",
   "pygments_lexer": "ipython3",
   "version": "3.7.3"
  }
 },
 "nbformat": 4,
 "nbformat_minor": 2
}
